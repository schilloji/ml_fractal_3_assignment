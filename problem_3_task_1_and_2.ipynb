{
  "nbformat": 4,
  "nbformat_minor": 0,
  "metadata": {
    "colab": {
      "provenance": [],
      "mount_file_id": "18lFjWerC37IFDX2bqi_gNUWg_j9Ie-Ma",
      "authorship_tag": "ABX9TyPrAiBi56UXXnd6RhQqAIap",
      "include_colab_link": true
    },
    "kernelspec": {
      "name": "python3",
      "display_name": "Python 3"
    },
    "language_info": {
      "name": "python"
    },
    "accelerator": "GPU",
    "gpuClass": "standard"
  },
  "cells": [
    {
      "cell_type": "markdown",
      "metadata": {
        "id": "view-in-github",
        "colab_type": "text"
      },
      "source": [
        "<a href=\"https://colab.research.google.com/github/schilloji/ml_fractal_3_assignment/blob/build/problem_3_task_1_and_2.ipynb\" target=\"_parent\"><img src=\"https://colab.research.google.com/assets/colab-badge.svg\" alt=\"Open In Colab\"/></a>"
      ]
    },
    {
      "cell_type": "code",
      "execution_count": 2,
      "metadata": {
        "colab": {
          "base_uri": "https://localhost:8080/"
        },
        "id": "UfompGFHvqF_",
        "outputId": "3a09b688-e25c-41cd-dc04-c5d1cb377ba6"
      },
      "outputs": [
        {
          "output_type": "stream",
          "name": "stdout",
          "text": [
            "Drive already mounted at /content/drive; to attempt to forcibly remount, call drive.mount(\"/content/drive\", force_remount=True).\n"
          ]
        }
      ],
      "source": [
        "from google.colab import drive\n",
        "import numpy as np\n",
        "import pandas as pd\n",
        "from PIL import Image\n",
        "import cv2\n",
        "from IPython.display import display\n",
        "import matplotlib.pyplot as plt\n",
        "import os\n",
        "import shutil\n",
        "import keras\n",
        "from keras.models import Sequential\n",
        "from keras.layers import Dense, Dropout, Flatten,Conv2D,MaxPooling2D\n",
        "from keras.optimizers import Adam\n",
        "from sklearn.preprocessing import LabelEncoder, OneHotEncoder\n",
        "from sklearn.model_selection import train_test_split\n",
        "\n",
        "drive.mount('/content/drive')"
      ]
    },
    {
      "cell_type": "code",
      "source": [
        "def dataLoader(data_path):\n",
        "  # set the image size for resizing\n",
        "  img_size = (28, 28)\n",
        "\n",
        "  # create empty arrays for the images and labels\n",
        "  images = []\n",
        "  labels=[]\n",
        "  label_path = '/content/drive/MyDrive/charts/'\n",
        "  lbl_df=pd.read_csv(label_path+str('train_val.csv'))\n",
        "  \n",
        "  # loop through each image in the folder\n",
        "  for file in os.listdir(data_path):\n",
        "    indx=int(file.split('.')[0])\n",
        "    file_path = os.path.join(data_path, file)\n",
        "    # open the image using cv2\n",
        "    img = cv2.imread(file_path)\n",
        "    img = cv2.cvtColor(img, cv2.COLOR_BGR2RGB)\n",
        "    img = cv2.resize(img, (224, 224))  # Resize the image to (224, 224)\n",
        "    \n",
        "    # add the image and label to the respective arrays\n",
        "    images.append(img)\n",
        "    labels.append(lbl_df.iloc[indx,:][1])\n",
        "        \n",
        "  # convert the images and labels to NumPy arrays\n",
        "  images = np.array(images)\n",
        "  labels = np.array(labels)\n",
        "  \n",
        "  # Encode the labels as one-hot vectors\n",
        "  label_encoder = LabelEncoder()\n",
        "  y = label_encoder.fit_transform(labels)\n",
        "  onehot_encoder = OneHotEncoder(sparse=False)\n",
        "  labels = onehot_encoder.fit_transform(y.reshape(-1, 1))\n",
        "\n",
        "  # print the shapes of the arrays\n",
        "  print('Images shape:', images.shape)\n",
        "  print('labels shape:', labels.shape)\n",
        "\n",
        "  return images,labels"
      ],
      "metadata": {
        "id": "mCVldmEiERHs"
      },
      "execution_count": 3,
      "outputs": []
    },
    {
      "cell_type": "code",
      "source": [
        "data_path = '/content/drive/MyDrive/charts/train_val/'\n",
        "train_images,train_labels=dataLoader(data_path)"
      ],
      "metadata": {
        "colab": {
          "base_uri": "https://localhost:8080/"
        },
        "id": "PmSU_9eeE0OD",
        "outputId": "6c915af9-ff2e-4670-aa4c-33815c6b78ed"
      },
      "execution_count": 4,
      "outputs": [
        {
          "output_type": "stream",
          "name": "stdout",
          "text": [
            "Images shape: (1000, 224, 224, 3)\n",
            "labels shape: (1000, 5)\n"
          ]
        },
        {
          "output_type": "stream",
          "name": "stderr",
          "text": [
            "/usr/local/lib/python3.9/dist-packages/sklearn/preprocessing/_encoders.py:868: FutureWarning: `sparse` was renamed to `sparse_output` in version 1.2 and will be removed in 1.4. `sparse_output` is ignored unless you leave `sparse` to its default value.\n",
            "  warnings.warn(\n"
          ]
        }
      ]
    },
    {
      "cell_type": "code",
      "source": [
        "# Split the data into training and testing sets\n",
        "X_train, X_test, y_train, y_test = train_test_split(train_images, train_labels, test_size=0.2, random_state=42)"
      ],
      "metadata": {
        "id": "JnH4FF4WFAEL"
      },
      "execution_count": 5,
      "outputs": []
    },
    {
      "cell_type": "code",
      "source": [
        "# Define model\n",
        "model = Sequential()\n",
        "model.add(Conv2D(32, kernel_size=(3,3), activation='relu', input_shape=X_train.shape[1:]))\n",
        "model.add(MaxPooling2D(pool_size=(2,2)))\n",
        "model.add(Conv2D(64, kernel_size=(3,3), activation='relu'))\n",
        "model.add(MaxPooling2D(pool_size=(2,2)))\n",
        "model.add(Flatten())\n",
        "model.add(Dense(128, activation='relu'))\n",
        "model.add(Dense(5, activation='softmax'))\n",
        "\n",
        "# Compile model\n",
        "model.compile(loss=keras.losses.categorical_crossentropy, optimizer='adam', metrics=['accuracy'])\n",
        "\n",
        "# Train model\n",
        "model.fit(X_train, y_train, batch_size=32, epochs=10, validation_data=(X_test, y_test))\n",
        "\n",
        "# Evaluate model\n",
        "score = model.evaluate(X_test, y_test, verbose=0)\n",
        "print('Test loss:', score[0])\n",
        "print('Test accuracy:', score[1])"
      ],
      "metadata": {
        "colab": {
          "base_uri": "https://localhost:8080/"
        },
        "id": "BpFt3ZTSFVOr",
        "outputId": "3a4cd1c6-1f26-45ad-8cd0-b83806fedf40"
      },
      "execution_count": 6,
      "outputs": [
        {
          "output_type": "stream",
          "name": "stdout",
          "text": [
            "Epoch 1/10\n",
            "25/25 [==============================] - 14s 64ms/step - loss: 1522.1060 - accuracy: 0.4812 - val_loss: 2.5356 - val_accuracy: 0.8250\n",
            "Epoch 2/10\n",
            "25/25 [==============================] - 1s 43ms/step - loss: 0.7841 - accuracy: 0.9137 - val_loss: 1.4584 - val_accuracy: 0.8050\n",
            "Epoch 3/10\n",
            "25/25 [==============================] - 1s 40ms/step - loss: 0.5908 - accuracy: 0.9100 - val_loss: 0.9183 - val_accuracy: 0.8850\n",
            "Epoch 4/10\n",
            "25/25 [==============================] - 1s 38ms/step - loss: 0.2062 - accuracy: 0.9750 - val_loss: 0.6640 - val_accuracy: 0.9300\n",
            "Epoch 5/10\n",
            "25/25 [==============================] - 1s 41ms/step - loss: 2.1018 - accuracy: 0.9438 - val_loss: 1.5679 - val_accuracy: 0.8650\n",
            "Epoch 6/10\n",
            "25/25 [==============================] - 1s 41ms/step - loss: 0.1080 - accuracy: 0.9800 - val_loss: 1.3384 - val_accuracy: 0.9000\n",
            "Epoch 7/10\n",
            "25/25 [==============================] - 1s 38ms/step - loss: 0.0740 - accuracy: 0.9925 - val_loss: 1.0343 - val_accuracy: 0.9400\n",
            "Epoch 8/10\n",
            "25/25 [==============================] - 1s 41ms/step - loss: 0.0017 - accuracy: 0.9987 - val_loss: 0.9601 - val_accuracy: 0.9500\n",
            "Epoch 9/10\n",
            "25/25 [==============================] - 1s 42ms/step - loss: 0.0033 - accuracy: 0.9987 - val_loss: 1.0472 - val_accuracy: 0.9350\n",
            "Epoch 10/10\n",
            "25/25 [==============================] - 1s 41ms/step - loss: 4.7839e-04 - accuracy: 1.0000 - val_loss: 1.0675 - val_accuracy: 0.9300\n",
            "Test loss: 1.0674902200698853\n",
            "Test accuracy: 0.9300000071525574\n"
          ]
        }
      ]
    },
    {
      "cell_type": "code",
      "source": [
        "# Define model\n",
        "model = Sequential()\n",
        "model.add(Conv2D(32, kernel_size=(3,3), activation='relu', input_shape=X_train.shape[1:]))\n",
        "model.add(MaxPooling2D(pool_size=(2,2)))\n",
        "model.add(Conv2D(64, kernel_size=(3,3), activation='relu'))\n",
        "model.add(MaxPooling2D(pool_size=(2,2)))\n",
        "model.add(Flatten())\n",
        "model.add(Dense(128, activation='relu'))\n",
        "model.add(Dense(5, activation='softmax'))\n",
        "\n",
        "# Compile model\n",
        "model.compile(loss=keras.losses.categorical_crossentropy, optimizer='adam', metrics=['accuracy'])\n",
        "\n",
        "# Train model\n",
        "history=model.fit(X_train, y_train, batch_size=32, epochs=100, validation_data=(X_test, y_test))\n",
        "\n",
        "# Evaluate model\n",
        "score = model.evaluate(X_test, y_test, verbose=0)\n",
        "print('Test loss:', score[0])\n",
        "print('Test accuracy:', score[1])"
      ],
      "metadata": {
        "colab": {
          "base_uri": "https://localhost:8080/"
        },
        "id": "Gxvw3TjND0F_",
        "outputId": "ccfe5635-5f8c-479e-dcc6-30e1a911cf96"
      },
      "execution_count": 19,
      "outputs": [
        {
          "output_type": "stream",
          "name": "stdout",
          "text": [
            "Epoch 1/100\n",
            "25/25 [==============================] - 2s 47ms/step - loss: 1172.9683 - accuracy: 0.5025 - val_loss: 8.0555 - val_accuracy: 0.6900\n",
            "Epoch 2/100\n",
            "25/25 [==============================] - 1s 38ms/step - loss: 2.3865 - accuracy: 0.8025 - val_loss: 1.9673 - val_accuracy: 0.8250\n",
            "Epoch 3/100\n",
            "25/25 [==============================] - 1s 41ms/step - loss: 0.6279 - accuracy: 0.8988 - val_loss: 2.3657 - val_accuracy: 0.8100\n",
            "Epoch 4/100\n",
            "25/25 [==============================] - 1s 38ms/step - loss: 0.1587 - accuracy: 0.9688 - val_loss: 1.4662 - val_accuracy: 0.9200\n",
            "Epoch 5/100\n",
            "25/25 [==============================] - 1s 38ms/step - loss: 0.0428 - accuracy: 0.9925 - val_loss: 1.7230 - val_accuracy: 0.9250\n",
            "Epoch 6/100\n",
            "25/25 [==============================] - 1s 41ms/step - loss: 0.0246 - accuracy: 0.9937 - val_loss: 1.8804 - val_accuracy: 0.9400\n",
            "Epoch 7/100\n",
            "25/25 [==============================] - 1s 43ms/step - loss: 0.0129 - accuracy: 0.9975 - val_loss: 1.4946 - val_accuracy: 0.9400\n",
            "Epoch 8/100\n",
            "25/25 [==============================] - 1s 43ms/step - loss: 9.4852e-04 - accuracy: 1.0000 - val_loss: 1.6144 - val_accuracy: 0.9300\n",
            "Epoch 9/100\n",
            "25/25 [==============================] - 1s 43ms/step - loss: 0.0055 - accuracy: 0.9987 - val_loss: 1.5542 - val_accuracy: 0.9500\n",
            "Epoch 10/100\n",
            "25/25 [==============================] - 1s 44ms/step - loss: 0.0053 - accuracy: 0.9987 - val_loss: 1.5298 - val_accuracy: 0.9450\n",
            "Epoch 11/100\n",
            "25/25 [==============================] - 1s 43ms/step - loss: 4.9990e-04 - accuracy: 1.0000 - val_loss: 1.6556 - val_accuracy: 0.9450\n",
            "Epoch 12/100\n",
            "25/25 [==============================] - 1s 40ms/step - loss: 8.7781e-05 - accuracy: 1.0000 - val_loss: 1.7081 - val_accuracy: 0.9450\n",
            "Epoch 13/100\n",
            "25/25 [==============================] - 1s 38ms/step - loss: 5.3458e-05 - accuracy: 1.0000 - val_loss: 1.7263 - val_accuracy: 0.9450\n",
            "Epoch 14/100\n",
            "25/25 [==============================] - 1s 41ms/step - loss: 4.1858e-05 - accuracy: 1.0000 - val_loss: 1.7309 - val_accuracy: 0.9450\n",
            "Epoch 15/100\n",
            "25/25 [==============================] - 1s 41ms/step - loss: 3.4104e-05 - accuracy: 1.0000 - val_loss: 1.7359 - val_accuracy: 0.9450\n",
            "Epoch 16/100\n",
            "25/25 [==============================] - 1s 38ms/step - loss: 2.8210e-05 - accuracy: 1.0000 - val_loss: 1.7381 - val_accuracy: 0.9450\n",
            "Epoch 17/100\n",
            "25/25 [==============================] - 1s 38ms/step - loss: 2.4443e-05 - accuracy: 1.0000 - val_loss: 1.7418 - val_accuracy: 0.9400\n",
            "Epoch 18/100\n",
            "25/25 [==============================] - 1s 41ms/step - loss: 2.0667e-05 - accuracy: 1.0000 - val_loss: 1.7440 - val_accuracy: 0.9400\n",
            "Epoch 19/100\n",
            "25/25 [==============================] - 1s 38ms/step - loss: 1.6349e-05 - accuracy: 1.0000 - val_loss: 1.7472 - val_accuracy: 0.9400\n",
            "Epoch 20/100\n",
            "25/25 [==============================] - 1s 41ms/step - loss: 1.3352e-05 - accuracy: 1.0000 - val_loss: 1.7487 - val_accuracy: 0.9350\n",
            "Epoch 21/100\n",
            "25/25 [==============================] - 1s 41ms/step - loss: 1.1410e-05 - accuracy: 1.0000 - val_loss: 1.7510 - val_accuracy: 0.9350\n",
            "Epoch 22/100\n",
            "25/25 [==============================] - 1s 42ms/step - loss: 9.8758e-06 - accuracy: 1.0000 - val_loss: 1.7538 - val_accuracy: 0.9400\n",
            "Epoch 23/100\n",
            "25/25 [==============================] - 1s 43ms/step - loss: 8.8863e-06 - accuracy: 1.0000 - val_loss: 1.7564 - val_accuracy: 0.9400\n",
            "Epoch 24/100\n",
            "25/25 [==============================] - 1s 43ms/step - loss: 7.9747e-06 - accuracy: 1.0000 - val_loss: 1.7581 - val_accuracy: 0.9400\n",
            "Epoch 25/100\n",
            "25/25 [==============================] - 1s 43ms/step - loss: 7.2720e-06 - accuracy: 1.0000 - val_loss: 1.7593 - val_accuracy: 0.9400\n",
            "Epoch 26/100\n",
            "25/25 [==============================] - 1s 38ms/step - loss: 6.6824e-06 - accuracy: 1.0000 - val_loss: 1.7608 - val_accuracy: 0.9400\n",
            "Epoch 27/100\n",
            "25/25 [==============================] - 1s 38ms/step - loss: 6.1400e-06 - accuracy: 1.0000 - val_loss: 1.7607 - val_accuracy: 0.9400\n",
            "Epoch 28/100\n",
            "25/25 [==============================] - 1s 38ms/step - loss: 5.7298e-06 - accuracy: 1.0000 - val_loss: 1.7626 - val_accuracy: 0.9350\n",
            "Epoch 29/100\n",
            "25/25 [==============================] - 1s 41ms/step - loss: 5.3120e-06 - accuracy: 1.0000 - val_loss: 1.7626 - val_accuracy: 0.9350\n",
            "Epoch 30/100\n",
            "25/25 [==============================] - 1s 38ms/step - loss: 4.9711e-06 - accuracy: 1.0000 - val_loss: 1.7637 - val_accuracy: 0.9350\n",
            "Epoch 31/100\n",
            "25/25 [==============================] - 1s 38ms/step - loss: 4.7117e-06 - accuracy: 1.0000 - val_loss: 1.7645 - val_accuracy: 0.9350\n",
            "Epoch 32/100\n",
            "25/25 [==============================] - 1s 42ms/step - loss: 4.4065e-06 - accuracy: 1.0000 - val_loss: 1.7650 - val_accuracy: 0.9350\n",
            "Epoch 33/100\n",
            "25/25 [==============================] - 1s 50ms/step - loss: 4.1801e-06 - accuracy: 1.0000 - val_loss: 1.7659 - val_accuracy: 0.9350\n",
            "Epoch 34/100\n",
            "25/25 [==============================] - 1s 49ms/step - loss: 3.9596e-06 - accuracy: 1.0000 - val_loss: 1.7665 - val_accuracy: 0.9350\n",
            "Epoch 35/100\n",
            "25/25 [==============================] - 1s 52ms/step - loss: 3.7702e-06 - accuracy: 1.0000 - val_loss: 1.7674 - val_accuracy: 0.9350\n",
            "Epoch 36/100\n",
            "25/25 [==============================] - 1s 59ms/step - loss: 3.5789e-06 - accuracy: 1.0000 - val_loss: 1.7681 - val_accuracy: 0.9350\n",
            "Epoch 37/100\n",
            "25/25 [==============================] - 1s 43ms/step - loss: 3.4024e-06 - accuracy: 1.0000 - val_loss: 1.7690 - val_accuracy: 0.9350\n",
            "Epoch 38/100\n",
            "25/25 [==============================] - 1s 43ms/step - loss: 3.2641e-06 - accuracy: 1.0000 - val_loss: 1.7697 - val_accuracy: 0.9350\n",
            "Epoch 39/100\n",
            "25/25 [==============================] - 1s 41ms/step - loss: 3.1114e-06 - accuracy: 1.0000 - val_loss: 1.7702 - val_accuracy: 0.9350\n",
            "Epoch 40/100\n",
            "25/25 [==============================] - 1s 38ms/step - loss: 2.9846e-06 - accuracy: 1.0000 - val_loss: 1.7711 - val_accuracy: 0.9350\n",
            "Epoch 41/100\n",
            "25/25 [==============================] - 1s 42ms/step - loss: 2.8623e-06 - accuracy: 1.0000 - val_loss: 1.7716 - val_accuracy: 0.9350\n",
            "Epoch 42/100\n",
            "25/25 [==============================] - 1s 42ms/step - loss: 2.7546e-06 - accuracy: 1.0000 - val_loss: 1.7724 - val_accuracy: 0.9350\n",
            "Epoch 43/100\n",
            "25/25 [==============================] - 1s 39ms/step - loss: 2.6464e-06 - accuracy: 1.0000 - val_loss: 1.7729 - val_accuracy: 0.9350\n",
            "Epoch 44/100\n",
            "25/25 [==============================] - 1s 39ms/step - loss: 2.5450e-06 - accuracy: 1.0000 - val_loss: 1.7735 - val_accuracy: 0.9350\n",
            "Epoch 45/100\n",
            "25/25 [==============================] - 1s 39ms/step - loss: 2.4554e-06 - accuracy: 1.0000 - val_loss: 1.7743 - val_accuracy: 0.9350\n",
            "Epoch 46/100\n",
            "25/25 [==============================] - 1s 41ms/step - loss: 2.3674e-06 - accuracy: 1.0000 - val_loss: 1.7749 - val_accuracy: 0.9350\n",
            "Epoch 47/100\n",
            "25/25 [==============================] - 1s 41ms/step - loss: 2.2871e-06 - accuracy: 1.0000 - val_loss: 1.7754 - val_accuracy: 0.9350\n",
            "Epoch 48/100\n",
            "25/25 [==============================] - 1s 42ms/step - loss: 2.2081e-06 - accuracy: 1.0000 - val_loss: 1.7761 - val_accuracy: 0.9350\n",
            "Epoch 49/100\n",
            "25/25 [==============================] - 1s 43ms/step - loss: 2.1306e-06 - accuracy: 1.0000 - val_loss: 1.7771 - val_accuracy: 0.9350\n",
            "Epoch 50/100\n",
            "25/25 [==============================] - 1s 44ms/step - loss: 2.0621e-06 - accuracy: 1.0000 - val_loss: 1.7780 - val_accuracy: 0.9350\n",
            "Epoch 51/100\n",
            "25/25 [==============================] - 1s 43ms/step - loss: 1.9891e-06 - accuracy: 1.0000 - val_loss: 1.7783 - val_accuracy: 0.9350\n",
            "Epoch 52/100\n",
            "25/25 [==============================] - 1s 40ms/step - loss: 1.9206e-06 - accuracy: 1.0000 - val_loss: 1.7790 - val_accuracy: 0.9350\n",
            "Epoch 53/100\n",
            "25/25 [==============================] - 1s 39ms/step - loss: 1.8581e-06 - accuracy: 1.0000 - val_loss: 1.7800 - val_accuracy: 0.9350\n",
            "Epoch 54/100\n",
            "25/25 [==============================] - 1s 38ms/step - loss: 1.7923e-06 - accuracy: 1.0000 - val_loss: 1.7812 - val_accuracy: 0.9350\n",
            "Epoch 55/100\n",
            "25/25 [==============================] - 1s 42ms/step - loss: 1.7383e-06 - accuracy: 1.0000 - val_loss: 1.7817 - val_accuracy: 0.9350\n",
            "Epoch 56/100\n",
            "25/25 [==============================] - 1s 39ms/step - loss: 1.6825e-06 - accuracy: 1.0000 - val_loss: 1.7819 - val_accuracy: 0.9350\n",
            "Epoch 57/100\n",
            "25/25 [==============================] - 1s 39ms/step - loss: 1.6332e-06 - accuracy: 1.0000 - val_loss: 1.7829 - val_accuracy: 0.9350\n",
            "Epoch 58/100\n",
            "25/25 [==============================] - 1s 39ms/step - loss: 1.5813e-06 - accuracy: 1.0000 - val_loss: 1.7837 - val_accuracy: 0.9350\n",
            "Epoch 59/100\n",
            "25/25 [==============================] - 1s 39ms/step - loss: 1.5310e-06 - accuracy: 1.0000 - val_loss: 1.7839 - val_accuracy: 0.9350\n",
            "Epoch 60/100\n",
            "25/25 [==============================] - 1s 41ms/step - loss: 1.4843e-06 - accuracy: 1.0000 - val_loss: 1.7851 - val_accuracy: 0.9350\n",
            "Epoch 61/100\n",
            "25/25 [==============================] - 1s 38ms/step - loss: 1.4436e-06 - accuracy: 1.0000 - val_loss: 1.7855 - val_accuracy: 0.9300\n",
            "Epoch 62/100\n",
            "25/25 [==============================] - 1s 43ms/step - loss: 1.3989e-06 - accuracy: 1.0000 - val_loss: 1.7862 - val_accuracy: 0.9250\n",
            "Epoch 63/100\n",
            "25/25 [==============================] - 1s 44ms/step - loss: 1.3513e-06 - accuracy: 1.0000 - val_loss: 1.7869 - val_accuracy: 0.9250\n",
            "Epoch 64/100\n",
            "25/25 [==============================] - 1s 44ms/step - loss: 1.2719e-06 - accuracy: 1.0000 - val_loss: 1.7875 - val_accuracy: 0.9250\n",
            "Epoch 65/100\n",
            "25/25 [==============================] - 1s 40ms/step - loss: 1.2243e-06 - accuracy: 1.0000 - val_loss: 1.7875 - val_accuracy: 0.9250\n",
            "Epoch 66/100\n",
            "25/25 [==============================] - 1s 41ms/step - loss: 1.1836e-06 - accuracy: 1.0000 - val_loss: 1.7883 - val_accuracy: 0.9250\n",
            "Epoch 67/100\n",
            "25/25 [==============================] - 1s 41ms/step - loss: 1.1369e-06 - accuracy: 1.0000 - val_loss: 1.7885 - val_accuracy: 0.9250\n",
            "Epoch 68/100\n",
            "25/25 [==============================] - 1s 39ms/step - loss: 8.5441e-07 - accuracy: 1.0000 - val_loss: 1.7881 - val_accuracy: 0.9250\n",
            "Epoch 69/100\n",
            "25/25 [==============================] - 1s 43ms/step - loss: 7.4743e-07 - accuracy: 1.0000 - val_loss: 1.7883 - val_accuracy: 0.9250\n",
            "Epoch 70/100\n",
            "25/25 [==============================] - 1s 44ms/step - loss: 7.1376e-07 - accuracy: 1.0000 - val_loss: 1.7885 - val_accuracy: 0.9250\n",
            "Epoch 71/100\n",
            "25/25 [==============================] - 1s 42ms/step - loss: 6.7636e-07 - accuracy: 1.0000 - val_loss: 1.7888 - val_accuracy: 0.9200\n",
            "Epoch 72/100\n",
            "25/25 [==============================] - 1s 39ms/step - loss: 6.5609e-07 - accuracy: 1.0000 - val_loss: 1.7895 - val_accuracy: 0.9200\n",
            "Epoch 73/100\n",
            "25/25 [==============================] - 1s 39ms/step - loss: 6.2525e-07 - accuracy: 1.0000 - val_loss: 1.7914 - val_accuracy: 0.9200\n",
            "Epoch 74/100\n",
            "25/25 [==============================] - 1s 39ms/step - loss: 6.0230e-07 - accuracy: 1.0000 - val_loss: 1.7921 - val_accuracy: 0.9200\n",
            "Epoch 75/100\n",
            "25/25 [==============================] - 1s 42ms/step - loss: 5.7861e-07 - accuracy: 1.0000 - val_loss: 1.7934 - val_accuracy: 0.9200\n",
            "Epoch 76/100\n",
            "25/25 [==============================] - 1s 44ms/step - loss: 5.6237e-07 - accuracy: 1.0000 - val_loss: 1.7941 - val_accuracy: 0.9200\n",
            "Epoch 77/100\n",
            "25/25 [==============================] - 1s 44ms/step - loss: 5.4091e-07 - accuracy: 1.0000 - val_loss: 1.7951 - val_accuracy: 0.9200\n",
            "Epoch 78/100\n",
            "25/25 [==============================] - 1s 44ms/step - loss: 5.2660e-07 - accuracy: 1.0000 - val_loss: 1.7964 - val_accuracy: 0.9200\n",
            "Epoch 79/100\n",
            "25/25 [==============================] - 1s 39ms/step - loss: 5.0798e-07 - accuracy: 1.0000 - val_loss: 1.7972 - val_accuracy: 0.9200\n",
            "Epoch 80/100\n",
            "25/25 [==============================] - 1s 41ms/step - loss: 4.9248e-07 - accuracy: 1.0000 - val_loss: 1.7982 - val_accuracy: 0.9200\n",
            "Epoch 81/100\n",
            "25/25 [==============================] - 1s 42ms/step - loss: 4.7922e-07 - accuracy: 1.0000 - val_loss: 1.7990 - val_accuracy: 0.9200\n",
            "Epoch 82/100\n",
            "25/25 [==============================] - 1s 38ms/step - loss: 4.6625e-07 - accuracy: 1.0000 - val_loss: 1.8000 - val_accuracy: 0.9200\n",
            "Epoch 83/100\n",
            "25/25 [==============================] - 1s 38ms/step - loss: 4.5225e-07 - accuracy: 1.0000 - val_loss: 1.8006 - val_accuracy: 0.9200\n",
            "Epoch 84/100\n",
            "25/25 [==============================] - 1s 39ms/step - loss: 4.4048e-07 - accuracy: 1.0000 - val_loss: 1.8013 - val_accuracy: 0.9200\n",
            "Epoch 85/100\n",
            "25/25 [==============================] - 1s 42ms/step - loss: 4.2960e-07 - accuracy: 1.0000 - val_loss: 1.8019 - val_accuracy: 0.9200\n",
            "Epoch 86/100\n",
            "25/25 [==============================] - 1s 42ms/step - loss: 4.1738e-07 - accuracy: 1.0000 - val_loss: 1.8026 - val_accuracy: 0.9200\n",
            "Epoch 87/100\n",
            "25/25 [==============================] - 1s 39ms/step - loss: 4.0725e-07 - accuracy: 1.0000 - val_loss: 1.8034 - val_accuracy: 0.9200\n",
            "Epoch 88/100\n",
            "25/25 [==============================] - 1s 39ms/step - loss: 3.9667e-07 - accuracy: 1.0000 - val_loss: 1.8040 - val_accuracy: 0.9200\n",
            "Epoch 89/100\n",
            "25/25 [==============================] - 1s 44ms/step - loss: 3.8683e-07 - accuracy: 1.0000 - val_loss: 1.8045 - val_accuracy: 0.9200\n",
            "Epoch 90/100\n",
            "25/25 [==============================] - 1s 44ms/step - loss: 3.7700e-07 - accuracy: 1.0000 - val_loss: 1.8052 - val_accuracy: 0.9200\n",
            "Epoch 91/100\n",
            "25/25 [==============================] - 1s 43ms/step - loss: 3.6791e-07 - accuracy: 1.0000 - val_loss: 1.8057 - val_accuracy: 0.9200\n",
            "Epoch 92/100\n",
            "25/25 [==============================] - 1s 43ms/step - loss: 3.5867e-07 - accuracy: 1.0000 - val_loss: 1.8062 - val_accuracy: 0.9200\n",
            "Epoch 93/100\n",
            "25/25 [==============================] - 1s 39ms/step - loss: 3.5018e-07 - accuracy: 1.0000 - val_loss: 1.8067 - val_accuracy: 0.9200\n",
            "Epoch 94/100\n",
            "25/25 [==============================] - 1s 39ms/step - loss: 3.4153e-07 - accuracy: 1.0000 - val_loss: 1.8077 - val_accuracy: 0.9200\n",
            "Epoch 95/100\n",
            "25/25 [==============================] - 1s 39ms/step - loss: 3.3378e-07 - accuracy: 1.0000 - val_loss: 1.8080 - val_accuracy: 0.9200\n",
            "Epoch 96/100\n",
            "25/25 [==============================] - 1s 42ms/step - loss: 3.2633e-07 - accuracy: 1.0000 - val_loss: 1.8081 - val_accuracy: 0.9200\n",
            "Epoch 97/100\n",
            "25/25 [==============================] - 1s 39ms/step - loss: 3.1873e-07 - accuracy: 1.0000 - val_loss: 1.8088 - val_accuracy: 0.9200\n",
            "Epoch 98/100\n",
            "25/25 [==============================] - 1s 39ms/step - loss: 3.1188e-07 - accuracy: 1.0000 - val_loss: 1.8092 - val_accuracy: 0.9200\n",
            "Epoch 99/100\n",
            "25/25 [==============================] - 1s 42ms/step - loss: 3.0503e-07 - accuracy: 1.0000 - val_loss: 1.8097 - val_accuracy: 0.9200\n",
            "Epoch 100/100\n",
            "25/25 [==============================] - 1s 42ms/step - loss: 2.9772e-07 - accuracy: 1.0000 - val_loss: 1.8099 - val_accuracy: 0.9200\n",
            "Test loss: 1.8099007606506348\n",
            "Test accuracy: 0.9200000166893005\n"
          ]
        }
      ]
    },
    {
      "cell_type": "code",
      "source": [
        "# plot the train and validation loss\n",
        "plt.plot(history.history['loss'],color='blue', label='train')\n",
        "plt.plot(history.history['val_loss'],color='red', label='validation')\n",
        "plt.title('Model Loss')\n",
        "plt.ylabel('Loss')\n",
        "plt.xlabel('Epoch')\n",
        "plt.legend()\n",
        "plt.show()"
      ],
      "metadata": {
        "colab": {
          "base_uri": "https://localhost:8080/",
          "height": 472
        },
        "id": "O2iqwxsUDPQX",
        "outputId": "56a2b4b9-8d76-45f8-f18b-cc94e7879256"
      },
      "execution_count": 20,
      "outputs": [
        {
          "output_type": "display_data",
          "data": {
            "text/plain": [
              "<Figure size 640x480 with 1 Axes>"
            ],
            "image/png": "[encoded data removed]"
          },
          "metadata": {}
        }
      ]
    },
    {
      "cell_type": "code",
      "source": [
        "# plot the train and validation loss\n",
        "plt.plot(history.history['accuracy'],color='blue', label='train')\n",
        "plt.plot(history.history['val_accuracy'],color='red', label='validation')\n",
        "plt.title('Model Accuracy')\n",
        "plt.ylabel('Accuracy')\n",
        "plt.xlabel('Epoch')\n",
        "plt.legend()\n",
        "plt.show()"
      ],
      "metadata": {
        "colab": {
          "base_uri": "https://localhost:8080/",
          "height": 472
        },
        "id": "fTTPH49RKh4s",
        "outputId": "c8e2d464-b55e-44e0-8388-1e85e5241534"
      },
      "execution_count": 22,
      "outputs": [
        {
          "output_type": "display_data",
          "data": {
            "text/plain": [
              "<Figure size 640x480 with 1 Axes>"
            ],
            "image/png": "[encoded data removed]"
          },
          "metadata": {}
        }
      ]
    },
    {
      "cell_type": "code",
      "source": [],
      "metadata": {
        "id": "9DA8ew5zldkP"
      },
      "execution_count": 3,
      "outputs": []
    },
    {
      "cell_type": "code",
      "source": [
        "device = torch.device('cuda' if torch.cuda.is_available() else 'cpu')\n",
        "device"
      ],
      "metadata": {
        "colab": {
          "base_uri": "https://localhost:8080/"
        },
        "id": "BbNlBYF7lhD3",
        "outputId": "b2ff74ca-2997-456b-aad8-337b8e41f936"
      },
      "execution_count": 4,
      "outputs": [
        {
          "output_type": "execute_result",
          "data": {
            "text/plain": [
              "device(type='cpu')"
            ]
          },
          "metadata": {},
          "execution_count": 4
        }
      ]
    },
    {
      "cell_type": "code",
      "source": [
        "\n",
        "pretain_path='/content/drive/MyDrive/charts/alexnet/'\n",
        "label_path = '/content/drive/MyDrive/charts/'\n",
        "lbl_df=pd.read_csv(label_path+str('train_val.csv'))\n",
        "\n",
        "try:\n",
        "  os.mkdir(label_path+str('alexnet'))\n",
        "  for i in lbl_df['type'].unique():  \n",
        "    class_path=pretain_path+str(i)\n",
        "    if os.path.exists(class_path):\n",
        "      pass\n",
        "    else:\n",
        "      os.mkdir(class_path)\n",
        "except OSError as e:\n",
        "  print(f\"No need to create {e}\")\n"
      ],
      "metadata": {
        "colab": {
          "base_uri": "https://localhost:8080/"
        },
        "id": "KrfgKla_sCVX",
        "outputId": "45497c7e-eea3-4655-a139-d4024d4ad6b4"
      },
      "execution_count": 18,
      "outputs": [
        {
          "output_type": "stream",
          "name": "stdout",
          "text": [
            "No need to create [Errno 17] File exists: '/content/drive/MyDrive/charts/alexnet'\n"
          ]
        }
      ]
    },
    {
      "cell_type": "code",
      "source": [
        "image_path = '/content/drive/MyDrive/charts/train_val'\n",
        "\n",
        "for file in os.listdir(image_path):\n",
        "  indx=int(file.split('.')[0])\n",
        "  file_path = os.path.join(image_path, file)\n",
        "  class_=lbl_df.iloc[indx,:][1]\n",
        "  target_path=os.path.join(pretain_path,class_)\n",
        "  if os.path.exists(os.path.join(pretain_path,class_,file)):\n",
        "    pass\n",
        "  else:\n",
        "    if class_=='dot_line':\n",
        "      shutil.copy(file_path, target_path)\n",
        "    if class_=='pie':\n",
        "      shutil.copy(file_path, target_path)\n",
        "    if class_=='hbar_categorical':\n",
        "      shutil.copy(file_path, target_path)\n",
        "    if class_=='line':\n",
        "      shutil.copy(file_path, target_path)\n",
        "    if class_=='vbar_categorical':\n",
        "      shutil.copy(file_path, target_path)\n"
      ],
      "metadata": {
        "id": "2ezs2GZ8I4zM"
      },
      "execution_count": 19,
      "outputs": []
    },
    {
      "cell_type": "code",
      "source": [
        "# Define transforms for the training and validation sets\n",
        "train_transforms = transforms.Compose([\n",
        "    transforms.RandomResizedCrop(size=224),\n",
        "    transforms.RandomHorizontalFlip(),\n",
        "    transforms.ToTensor(),\n",
        "    transforms.Normalize(mean=[0.485, 0.456, 0.406], std=[0.229, 0.224, 0.225])\n",
        "])\n",
        "\n",
        "val_transforms = transforms.Compose([\n",
        "    transforms.Resize(size=256),\n",
        "    transforms.CenterCrop(size=224),\n",
        "    transforms.ToTensor(),\n",
        "    transforms.Normalize(mean=[0.485, 0.456, 0.406], std=[0.229, 0.224, 0.225])\n",
        "])\n"
      ],
      "metadata": {
        "id": "OR-cmP4BnI2t"
      },
      "execution_count": 20,
      "outputs": []
    },
    {
      "cell_type": "code",
      "source": [
        "pretain_path='/content/drive/MyDrive/charts/alexnet/'\n",
        "train_dataset = ImageFolder(root=pretain_path, transform=train_transforms)"
      ],
      "metadata": {
        "id": "rTEImjPwnLsa"
      },
      "execution_count": 21,
      "outputs": []
    },
    {
      "cell_type": "code",
      "source": [
        "batch_size = 32\n",
        "train_loader = DataLoader(train_dataset, batch_size=batch_size, shuffle=True)"
      ],
      "metadata": {
        "id": "Vshm29-cpXSp"
      },
      "execution_count": 22,
      "outputs": []
    },
    {
      "cell_type": "code",
      "source": [
        "model = models.alexnet(pretrained=True)\n",
        "#model=model.cuda()\n",
        "model.eval()"
      ],
      "metadata": {
        "colab": {
          "base_uri": "https://localhost:8080/"
        },
        "id": "NJHHEtlrpZa8",
        "outputId": "de837986-910d-44d0-a2f7-9301e05a6afc"
      },
      "execution_count": 45,
      "outputs": [
        {
          "output_type": "stream",
          "name": "stderr",
          "text": [
            "/usr/local/lib/python3.9/dist-packages/torchvision/models/_utils.py:208: UserWarning: The parameter 'pretrained' is deprecated since 0.13 and may be removed in the future, please use 'weights' instead.\n",
            "  warnings.warn(\n",
            "/usr/local/lib/python3.9/dist-packages/torchvision/models/_utils.py:223: UserWarning: Arguments other than a weight enum or `None` for 'weights' are deprecated since 0.13 and may be removed in the future. The current behavior is equivalent to passing `weights=AlexNet_Weights.IMAGENET1K_V1`. You can also use `weights=AlexNet_Weights.DEFAULT` to get the most up-to-date weights.\n",
            "  warnings.warn(msg)\n"
          ]
        },
        {
          "output_type": "execute_result",
          "data": {
            "text/plain": [
              "AlexNet(\n",
              "  (features): Sequential(\n",
              "    (0): Conv2d(3, 64, kernel_size=(11, 11), stride=(4, 4), padding=(2, 2))\n",
              "    (1): ReLU(inplace=True)\n",
              "    (2): MaxPool2d(kernel_size=3, stride=2, padding=0, dilation=1, ceil_mode=False)\n",
              "    (3): Conv2d(64, 192, kernel_size=(5, 5), stride=(1, 1), padding=(2, 2))\n",
              "    (4): ReLU(inplace=True)\n",
              "    (5): MaxPool2d(kernel_size=3, stride=2, padding=0, dilation=1, ceil_mode=False)\n",
              "    (6): Conv2d(192, 384, kernel_size=(3, 3), stride=(1, 1), padding=(1, 1))\n",
              "    (7): ReLU(inplace=True)\n",
              "    (8): Conv2d(384, 256, kernel_size=(3, 3), stride=(1, 1), padding=(1, 1))\n",
              "    (9): ReLU(inplace=True)\n",
              "    (10): Conv2d(256, 256, kernel_size=(3, 3), stride=(1, 1), padding=(1, 1))\n",
              "    (11): ReLU(inplace=True)\n",
              "    (12): MaxPool2d(kernel_size=3, stride=2, padding=0, dilation=1, ceil_mode=False)\n",
              "  )\n",
              "  (avgpool): AdaptiveAvgPool2d(output_size=(6, 6))\n",
              "  (classifier): Sequential(\n",
              "    (0): Dropout(p=0.5, inplace=False)\n",
              "    (1): Linear(in_features=9216, out_features=4096, bias=True)\n",
              "    (2): ReLU(inplace=True)\n",
              "    (3): Dropout(p=0.5, inplace=False)\n",
              "    (4): Linear(in_features=4096, out_features=4096, bias=True)\n",
              "    (5): ReLU(inplace=True)\n",
              "    (6): Linear(in_features=4096, out_features=1000, bias=True)\n",
              "  )\n",
              ")"
            ]
          },
          "metadata": {},
          "execution_count": 45
        }
      ]
    },
    {
      "cell_type": "code",
      "source": [
        "num_classes = 5\n",
        "model.classifier[-1] = nn.Linear(in_features=4096, out_features=num_classes)\n",
        "model.eval()"
      ],
      "metadata": {
        "colab": {
          "base_uri": "https://localhost:8080/"
        },
        "id": "mbBckrWPpcJP",
        "outputId": "90a5cb15-9495-4280-d370-dc613c8d0f67"
      },
      "execution_count": 46,
      "outputs": [
        {
          "output_type": "execute_result",
          "data": {
            "text/plain": [
              "AlexNet(\n",
              "  (features): Sequential(\n",
              "    (0): Conv2d(3, 64, kernel_size=(11, 11), stride=(4, 4), padding=(2, 2))\n",
              "    (1): ReLU(inplace=True)\n",
              "    (2): MaxPool2d(kernel_size=3, stride=2, padding=0, dilation=1, ceil_mode=False)\n",
              "    (3): Conv2d(64, 192, kernel_size=(5, 5), stride=(1, 1), padding=(2, 2))\n",
              "    (4): ReLU(inplace=True)\n",
              "    (5): MaxPool2d(kernel_size=3, stride=2, padding=0, dilation=1, ceil_mode=False)\n",
              "    (6): Conv2d(192, 384, kernel_size=(3, 3), stride=(1, 1), padding=(1, 1))\n",
              "    (7): ReLU(inplace=True)\n",
              "    (8): Conv2d(384, 256, kernel_size=(3, 3), stride=(1, 1), padding=(1, 1))\n",
              "    (9): ReLU(inplace=True)\n",
              "    (10): Conv2d(256, 256, kernel_size=(3, 3), stride=(1, 1), padding=(1, 1))\n",
              "    (11): ReLU(inplace=True)\n",
              "    (12): MaxPool2d(kernel_size=3, stride=2, padding=0, dilation=1, ceil_mode=False)\n",
              "  )\n",
              "  (avgpool): AdaptiveAvgPool2d(output_size=(6, 6))\n",
              "  (classifier): Sequential(\n",
              "    (0): Dropout(p=0.5, inplace=False)\n",
              "    (1): Linear(in_features=9216, out_features=4096, bias=True)\n",
              "    (2): ReLU(inplace=True)\n",
              "    (3): Dropout(p=0.5, inplace=False)\n",
              "    (4): Linear(in_features=4096, out_features=4096, bias=True)\n",
              "    (5): ReLU(inplace=True)\n",
              "    (6): Linear(in_features=4096, out_features=5, bias=True)\n",
              "  )\n",
              ")"
            ]
          },
          "metadata": {},
          "execution_count": 46
        }
      ]
    },
    {
      "cell_type": "code",
      "source": [
        "model=model.to(device)"
      ],
      "metadata": {
        "id": "itKwnMibxQ_A"
      },
      "execution_count": 47,
      "outputs": []
    },
    {
      "cell_type": "code",
      "source": [
        "# for param in model.parameters():\n",
        "#     param.requires_grad = False\n",
        "\n",
        "# model.classifier[-1].requires_grad = True"
      ],
      "metadata": {
        "id": "tGuhEkNEphY3"
      },
      "execution_count": 37,
      "outputs": []
    },
    {
      "cell_type": "code",
      "source": [
        "# Define loss function and optimizer\n",
        "criterion = nn.CrossEntropyLoss()\n",
        "optimizer = optim.Adam(model.parameters())"
      ],
      "metadata": {
        "id": "iN8R0oeepkgt"
      },
      "execution_count": 48,
      "outputs": []
    },
    {
      "cell_type": "code",
      "source": [
        "# Train the model\n",
        "num_epochs = 10\n",
        "for epoch in range(num_epochs):\n",
        "    running_loss = 0.0\n",
        "    for i, (inputs, labels) in enumerate(train_loader):\n",
        "        inputs = inputs.cuda()\n",
        "        labels = labels.cuda()\n",
        "        # print(inputs)\n",
        "        # print(labels)\n",
        "\n",
        "        optimizer.zero_grad()\n",
        "\n",
        "        outputs = model(inputs)\n",
        "        loss = criterion(outputs, labels)\n",
        "        loss.backward()\n",
        "        optimizer.step()\n",
        "\n",
        "        running_loss += loss.item()\n",
        "\n",
        "    epoch_loss = running_loss / len(train_loader)\n",
        "    print('Epoch [{}/{}], Loss: {:.4f}'.format(epoch+1, num_epochs, epoch_loss))\n"
      ],
      "metadata": {
        "colab": {
          "base_uri": "https://localhost:8080/"
        },
        "id": "ql4MbSeQpmwN",
        "outputId": "4c12c487-3089-43e6-d0a1-fa73c916df6f"
      },
      "execution_count": 49,
      "outputs": [
        {
          "output_type": "stream",
          "name": "stdout",
          "text": [
            "Epoch [1/10], Loss: 1.4262\n",
            "Epoch [2/10], Loss: 0.3932\n",
            "Epoch [3/10], Loss: 0.3996\n",
            "Epoch [4/10], Loss: 0.2316\n",
            "Epoch [5/10], Loss: 0.1371\n",
            "Epoch [6/10], Loss: 0.1940\n",
            "Epoch [7/10], Loss: 0.2778\n",
            "Epoch [8/10], Loss: 0.5985\n",
            "Epoch [9/10], Loss: 0.4510\n",
            "Epoch [10/10], Loss: 0.3602\n"
          ]
        }
      ]
    },
    {
      "cell_type": "code",
      "source": [
        "with torch.no_grad():\n",
        "    correct = 0\n",
        "    total = 0\n",
        "    for inputs, labels in train_loader:\n",
        "        inputs = inputs.to(device)\n",
        "        labels = labels.to(device)\n",
        "\n",
        "        outputs = model(inputs)\n",
        "        _, predicted = torch.max(outputs.data, 1)\n",
        "\n",
        "        total += labels.size(0)\n",
        "        correct += (predicted == labels).sum().item()\n",
        "\n",
        "    print('Accuracy on the validation set: {:.2f}%'.format(correct / total * 100))"
      ],
      "metadata": {
        "colab": {
          "base_uri": "https://localhost:8080/"
        },
        "id": "X1jo352gx7qD",
        "outputId": "7bdf8bac-ce98-4302-cd10-03dd0260c702"
      },
      "execution_count": 50,
      "outputs": [
        {
          "output_type": "stream",
          "name": "stdout",
          "text": [
            "Accuracy on the validation set: 94.60%\n"
          ]
        }
      ]
    }
  ]
}